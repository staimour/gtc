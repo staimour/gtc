{
 "cells": [
  {
   "cell_type": "code",
   "execution_count": null,
   "metadata": {
    "collapsed": true
   },
   "outputs": [],
   "source": [
    "def gtcReadEq():\n",
    "    import numpy as np\n",
    "\n",
    "    dat = open('equilibrium.out','r').readlines()\n",
    "      \n",
    "    nrplot = int(dat[0])                   # of 1D radial profile plots\n",
    "    lsp1   = int(dat[1])                   # of radials pts in profile plots\n",
    "    nplot  = int(dat[(nrplot+1)*lsp1+2])   # of 2D plots\n",
    "    lsp2   = int(dat[(nrplot+1)*lsp1+3])   # of radial pts in 2D plots\n",
    "    lst    = int(dat[(nrplot+1)*lsp1+4])   # of poloidal pts in 2D plots\n",
    "\n",
    "    #print important parameters for reference\n",
    "    print(\"# of radial plots,\",\"lsp1,\", \"# of 2D plots\", \"lsp2\", \"lst\")\n",
    "    print(nrplot,lsp1,nplot,lsp2,lst)\n",
    "\n",
    "    # Remove data format parameters\n",
    "    del dat[(nrplot+1)*lsp1+2:(nrplot+1)*lsp1+5]\n",
    "    del dat[0:2]\n",
    "\n",
    "    #convert dat to float\n",
    "    for i in range(0,len(dat)-1):\n",
    "        dat[i]=float(dat[i])\n",
    "    \n",
    "    # initialize eq data arrays\n",
    "    pdata = np.zeros((lsp1,nrplot+1))\n",
    "    spdata = np.zeros((lsp2,lst,nplot+2))\n",
    "\n",
    "    # fill data arrays\n",
    "    for n in range(0,nrplot+1):\n",
    "        for i in range(0,lsp1):\n",
    "            pdata[i,n] = dat[i + lsp1*n]\n",
    "    for n in range(0,nplot+2):\n",
    "        for j in range(0,lst):\n",
    "            for i in range(0,lsp2):\n",
    "                spdata[i,j,n] = dat[lsp1*(nrplot+1) + i + lsp2*(j + n*lst)]"
   ]
  },
  {
   "cell_type": "code",
   "execution_count": null,
   "metadata": {
    "collapsed": false
   },
   "outputs": [],
   "source": [
    "import numpy as np\n",
    "\n",
    "dat = open('eq.out','r').readlines()\n",
    "      \n",
    "nrplot = int(dat[0])               # of 1D radial profile plots\n",
    "lsp1   = int(dat[1])               # of radials pts in profile plots\n",
    "nplot  = int(dat[(nrplot+1)*lsp1+2])   # of 2D plots\n",
    "lsp2   = int(dat[(nrplot+1)*lsp1+3])   # of radial pts in 2D plots\n",
    "lst    = int(dat[(nrplot+1)*lsp1+4])   # of poloidal pts in 2D plots\n",
    "\n",
    "#print important parameters for reference\n",
    "print(\"# of radial plots,\",\"lsp1,\", \"# of 2D plots\", \"lsp2\", \"lst\")\n",
    "print(nrplot,lsp1,nplot,lsp2,lst)\n",
    "\n",
    "# Remove data format parameters\n",
    "del dat[(nrplot+1)*lsp1+2:(nrplot+1)*lsp1+5]\n",
    "del dat[0:2]\n",
    "\n",
    "#convert dat to float\n",
    "for i in range(0,len(dat)-1):\n",
    "    dat[i]=float(dat[i])\n",
    "    \n",
    "# initialize eq data arrays\n",
    "pdata = np.zeros((lsp1,nrplot+1))\n",
    "spdata = np.zeros((lsp2,lst,nplot+2))\n",
    "\n",
    "# fill data arrays\n",
    "for n in range(0,nrplot+1):\n",
    "    for i in range(0,lsp1):\n",
    "        pdata[i,n] = dat[i + lsp1*n]\n",
    "for n in range(0,nplot+2):\n",
    "    for j in range(0,lst):\n",
    "        for i in range(0,lsp2):\n",
    "            spdata[i,j,n] = dat[lsp1*(nrplot+1) + i + lsp2*(j + n*lst)]\n"
   ]
  },
  {
   "cell_type": "code",
   "execution_count": 3,
   "metadata": {
    "collapsed": false
   },
   "outputs": [],
   "source": [
    "import matplotlib.pyplot as plt\n",
    "\n",
    "for n in range(0,nrplot+1):\n",
    "    plt.subplot(6,5,n+1)\n",
    "    plt.plot(pdata[:,n])\n",
    "plt.show()    "
   ]
  },
  {
   "cell_type": "code",
   "execution_count": 12,
   "metadata": {
    "collapsed": false
   },
   "outputs": [
    {
     "data": {
      "text/plain": [
       "20675"
      ]
     },
     "execution_count": 12,
     "metadata": {},
     "output_type": "execute_result"
    }
   ],
   "source": [
    "len(dat)"
   ]
  },
  {
   "cell_type": "code",
   "execution_count": null,
   "metadata": {
    "collapsed": false
   },
   "outputs": [],
   "source": [
    "import matplotlib.pyplot as plt\n",
    "\n",
    "for i in range(0,lsp2):\n",
    "    plt.plot(spdata[i,:,0],spdata[i,:,1],color='k')\n",
    "for j in range(0,lst):\n",
    "    plt.plot(spdata[:,j,0],spdata[:,j,1],color='k')\n",
    "plt.axis('equal')\n",
    "plt.show()    "
   ]
  },
  {
   "cell_type": "code",
   "execution_count": 8,
   "metadata": {
    "collapsed": false
   },
   "outputs": [
    {
     "data": {
      "text/plain": [
       "1.0135897"
      ]
     },
     "execution_count": 8,
     "metadata": {},
     "output_type": "execute_result"
    }
   ],
   "source": [
    "spdata[0,0,0]"
   ]
  },
  {
   "cell_type": "code",
   "execution_count": null,
   "metadata": {
    "collapsed": true
   },
   "outputs": [],
   "source": []
  }
 ],
 "metadata": {
  "kernelspec": {
   "display_name": "Python 2",
   "language": "python",
   "name": "python2"
  },
  "language_info": {
   "codemirror_mode": {
    "name": "ipython",
    "version": 2
   },
   "file_extension": ".py",
   "mimetype": "text/x-python",
   "name": "python",
   "nbconvert_exporter": "python",
   "pygments_lexer": "ipython2",
   "version": "2.7.5"
  }
 },
 "nbformat": 4,
 "nbformat_minor": 0
}

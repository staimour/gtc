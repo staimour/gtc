{
 "cells": [
  {
   "cell_type": "code",
   "execution_count": 1,
   "metadata": {
    "collapsed": false,
    "scrolled": true
   },
   "outputs": [],
   "source": [
    "def gtcReadHist():\n",
    "    \n",
    "    import numpy as np \n",
    "\n",
    "    dat = open('history.out','r').readlines()\n",
    "    \n",
    "    ndstep = int(dat[0])     # of time steps\n",
    "    nspecies = int(dat[1])   # of particle species\n",
    "    mpdiag = int(dat[2])     # of diagnostics per particle\n",
    "    nfield = int(dat[3])     # of pertubed fields\n",
    "    modes = int(dat[4])      # of modes per perturbed field\n",
    "    mfdiag = int(dat[5])     # of diagnostics per field\n",
    "    tstep = float(dat[6])    # of time step size\n",
    "\n",
    "    #print important parameters for reference\n",
    "    print(\"tsteps,\",\"# species,\", \"# particle diagnostics,\", \"# fields,\", \"# modes,\", \"# field quantities,\", \"tstep size\")\n",
    "    print(ndstep, nspecies, mpdiag, nfield, modes, mfdiag, tstep)\n",
    "\n",
    "    del dat[0:7] # Remove first 7 values for cleaner array\n",
    "\n",
    "    #convert dat to float\n",
    "    for i in range(0,len(dat)-1):\n",
    "        dat[i]=float(dat[i])\n",
    "\n",
    "    # initialize class array\n",
    "    hdat=[]\n",
    "\n",
    "    # store data into list of lists, hdat\n",
    "    for i in range(0,ndstep):\n",
    "        hdat.append(dat[80*i:80*(i+1)])\n",
    "    \n",
    "    # initialize history data arrays  \n",
    "    partdata = np.zeros((ndstep,mpdiag,nspecies))\n",
    "    fieldhist = np.zeros((ndstep,mfdiag,nfield))\n",
    "    fieldmode = np.zeros((ndstep,2,modes,nfield))\n",
    "\n",
    "              \n",
    "    #get data into data arrays\n",
    "    for i in range(0,ndstep):\n",
    "        for n in range(0,nspecies):\n",
    "            partdata[i,:,n]=hdat[i][mpdiag*n:mpdiag*(n+1)]\n",
    "        for n in range(0,nfield):\n",
    "            fieldhist[i,:,n]=hdat[i][(mpdiag*nspecies)+mfdiag*n:(mpdiag*nspecies)+mfdiag*(n+1)]\n",
    "            for m in range(0,2):\n",
    "                fieldmode[i,m,:,n]=hdat[i][(mpdiag*nspecies)+(mfdiag*nfield)+modes*(2*n+m):(mpdiag*nspecies)+(mfdiag*nfield)+modes*(2*n+m+1)]\n",
    "\n",
    "    return partdata,fieldhist,fieldmode\n"
   ]
  },
  {
   "cell_type": "code",
   "execution_count": 2,
   "metadata": {
    "collapsed": false
   },
   "outputs": [
    {
     "name": "stdout",
     "output_type": "stream",
     "text": [
      "tsteps, # species, # particle diagnostics, # fields, # modes, # field quantities, tstep size\n",
      "4000 2 10 3 8 4 3.49431\n"
     ]
    }
   ],
   "source": [
    "h = gtcReadHist();"
   ]
  },
  {
   "cell_type": "code",
   "execution_count": 7,
   "metadata": {
    "collapsed": false
   },
   "outputs": [
    {
     "data": {
      "image/png": "[encoded data removed]",
      "text/plain": [
       "<matplotlib.figure.Figure at 0x7f626c2d0a20>"
      ]
     },
     "metadata": {},
     "output_type": "display_data"
    }
   ],
   "source": [
    "import matplotlib.pyplot as plt\n",
    "\n",
    "plt.plot(h[2][:,1,0,0],'-k')\n",
    "plt.show()\n",
    "plt.xlim([1,len(h[0][:,0,0])]);\n",
    "plt.xlabel('time steps');\n",
    "plt.title('$\\delta f_i$');\n"
   ]
  },
  {
   "cell_type": "code",
   "execution_count": null,
   "metadata": {
    "collapsed": true
   },
   "outputs": [],
   "source": []
  }
 ],
 "metadata": {
  "kernelspec": {
   "display_name": "Python 2",
   "language": "python",
   "name": "python2"
  },
  "language_info": {
   "codemirror_mode": {
    "name": "ipython",
    "version": 2
   },
   "file_extension": ".py",
   "mimetype": "text/x-python",
   "name": "python",
   "nbconvert_exporter": "python",
   "pygments_lexer": "ipython2",
   "version": "2.7.5"
  }
 },
 "nbformat": 4,
 "nbformat_minor": 2
}

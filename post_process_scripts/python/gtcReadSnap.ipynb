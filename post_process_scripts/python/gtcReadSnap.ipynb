{
 "cells": [
  {
   "cell_type": "code",
   "execution_count": 12,
   "metadata": {
    "collapsed": true
   },
   "outputs": [],
   "source": [
    "def gtcReadSnap():\n",
    "    \n",
    "    import numpy as np\n",
    "\n",
    "    dat = open('snap0004000.out','r').readlines()\n",
    "    \n",
    "    \n",
    "    nspecies = int(dat[0])     # of particle species\n",
    "    nfield = int(dat[1])       # of perturbed fields\n",
    "    nvgrid = int(dat[2])       # of vpara bins\n",
    "    mpsi = int(dat[3])         # radial grid points\n",
    "    mtgrid = int(dat[4])       # of poloidal grid pts @ diagnosis flux surface\n",
    "    mtoroidal=int(dat[5])      # toroidal grid pts\n",
    "    tmax = float(dat[6])       # Upper bound of temperature\n",
    "\n",
    "\n",
    "    #print important parameters for reference\n",
    "    print(\"nspecies,\",\"nfield,\", \"nvgrid, \", \"mpsi,\", \"mtheta(iflux),\",'mtoroidal, ', \"tmax\")\n",
    "    print(nspecies, nfield, nvgrid, mpsi, mtgrid, mtoroidal, tmax)\n",
    "\n",
    "    del dat[0:7] # Remove first 7 values for cleaner array\n",
    "\n",
    "    #convert dat to float\n",
    "    for i in range(0,len(dat)-1):\n",
    "        dat[i]=float(dat[i])\n",
    "    \n",
    "    # initialize snap data arrays    \n",
    "    profiles = np.zeros((mpsi,6,nspecies))\n",
    "    pdf = np.zeros((nvgrid,4,nspecies))\n",
    "    poloidata=np.zeros((mtgrid,mpsi,nfield+2))\n",
    "    fluxdata = np.zeros((mtgrid,mtoroidal,nfield))\n",
    "\n",
    "    #particle real space data\n",
    "    for i in range(0,mpsi): \n",
    "        for n in range(0,nspecies):\n",
    "            for m in range(0,6):\n",
    "                profiles[i,m,n] = dat[i + mpsi*(m + 6*n)]\n",
    "    #particle velocity space data\n",
    "    for i in range(0,nvgrid):\n",
    "        for m in range(0,4):\n",
    "            for n in range(0,nspecies):\n",
    "                pdf[i,m,n] = dat[6*mpsi*nspecies + i + nvgrid*(m + 4*n)]\n",
    "    #2D poloidal plane data\n",
    "    for n in range(0,nfield+2):\n",
    "        for i in range(0,mpsi):\n",
    "            for j in range(0,mtgrid):\n",
    "                poloidata[j,i,n] = dat[6*mpsi*nspecies + 4*nvgrid*nspecies + j + (i + mpsi*n)*mtgrid]\n",
    "    #2D flux surface data at psi=iflux\n",
    "    for n in range(0,nfield):\n",
    "        for k in range(0,mtoroidal):\n",
    "            for j in range(0,mtgrid):\n",
    "                fluxdata[j,k,n] = dat[6*mpsi*nspecies + 4*nvgrid*nspecies + mpsi*mtgrid*5 + j + (k + mtoroidal*n)*mtgrid]\n",
    "\n",
    "    return profiles,pdf,poloidata,pdf\n",
    "\n",
    "            \n"
   ]
  },
  {
   "cell_type": "code",
   "execution_count": 1,
   "metadata": {
    "collapsed": false
   },
   "outputs": [
    {
     "name": "stdout",
     "output_type": "stream",
     "text": [
      "('nspecies,', 'nfield,', 'nvgrid, ', 'mpsi,', 'mtheta(iflux),', 'mtoroidal, ', 'tmax')\n",
      "(2, 3, 65, 97, 395, 32, 5.0)\n"
     ]
    }
   ],
   "source": [
    "import numpy as np\n",
    "\n",
    "dat = open('snap0004000.out','r').readlines()\n",
    "    \n",
    "    \n",
    "nspecies = int(dat[0])     # of particle species\n",
    "nfield = int(dat[1])       # of perturbed fields\n",
    "nvgrid = int(dat[2])       # of vpara bins\n",
    "mpsi = int(dat[3])         # radial grid points\n",
    "mtgrid = int(dat[4])       # of poloidal grid pts @ diagnosis flux surface\n",
    "mtoroidal=int(dat[5])      # toroidal grid pts\n",
    "tmax = float(dat[6])       # Upper bound of temperature\n",
    "\n",
    "\n",
    "#print important parameters for reference\n",
    "print(\"nspecies,\",\"nfield,\", \"nvgrid, \", \"mpsi,\", \"mtheta(iflux),\",'mtoroidal, ', \"tmax\")\n",
    "print(nspecies, nfield, nvgrid, mpsi, mtgrid, mtoroidal, tmax)\n",
    "\n",
    "del dat[0:7] # Remove first 7 values for cleaner array\n",
    "\n",
    "#convert dat to float\n",
    "for i in range(0,len(dat)-1):\n",
    "    dat[i]=float(dat[i])\n",
    "    \n",
    "# initialize snap data arrays    \n",
    "profiles = np.zeros((mpsi,6,nspecies))\n",
    "pdf = np.zeros((nvgrid,4,nspecies))\n",
    "poloidata=np.zeros((mtgrid,mpsi,nfield+2))\n",
    "fluxdata = np.zeros((mtgrid,mtoroidal,nfield))\n",
    "\n",
    "#particle real space data\n",
    "for i in range(0,mpsi): \n",
    "    for n in range(0,nspecies):\n",
    "        for m in range(0,6):\n",
    "            profiles[i,m,n] = dat[i + mpsi*(m + 6*n)]\n",
    "#particle velocity space data\n",
    "for i in range(0,nvgrid):\n",
    "    for m in range(0,4):\n",
    "        for n in range(0,nspecies):\n",
    "            pdf[i,m,n] = dat[6*mpsi*nspecies + i + nvgrid*(m + 4*n)]\n",
    "#2D poloidal plane data\n",
    "for n in range(0,nfield+2):\n",
    "    for i in range(0,mpsi):\n",
    "        for j in range(0,mtgrid):\n",
    "                poloidata[j,i,n] = dat[6*mpsi*nspecies + 4*nvgrid*nspecies + j + (i + mpsi*n)*mtgrid]\n",
    "#2D flux surface data at psi=iflux\n",
    "for n in range(0,nfield):\n",
    "    for k in range(0,mtoroidal):\n",
    "        for j in range(0,mtgrid):\n",
    "                fluxdata[j,k,n] = dat[6*mpsi*nspecies + 4*nvgrid*nspecies + mpsi*mtgrid*5 + j + (k + mtoroidal*n)*mtgrid]\n",
    "\n",
    "\n",
    "\n",
    "\n"
   ]
  },
  {
   "cell_type": "code",
   "execution_count": 13,
   "metadata": {
    "collapsed": false
   },
   "outputs": [
    {
     "name": "stdout",
     "output_type": "stream",
     "text": [
      "193259\n",
      "193654\n",
      "nspecies, nfield, nvgrid,  mpsi, mtheta(iflux), mtoroidal,  tmax\n",
      "2 3 65 97 395 32 5.0\n"
     ]
    },
    {
     "data": {
      "text/plain": [
       "4"
      ]
     },
     "execution_count": 13,
     "metadata": {},
     "output_type": "execute_result"
    }
   ],
   "source": [
    "print(6*mpsi*nspecies + 4*nvgrid*nspecies + mpsi*mtgrid*5)\n",
    "print(6*mpsi*nspecies + 4*nvgrid*nspecies + mpsi*mtgrid*5+395)\n",
    "x=gtcReadSnap()\n",
    "len(x)\n"
   ]
  },
  {
   "cell_type": "code",
   "execution_count": 6,
   "metadata": {
    "collapsed": false
   },
   "outputs": [],
   "source": [
    "import matplotlib.pyplot as plt\n",
    "import numpy as np\n",
    "\n",
    "\n",
    "plt.figure(figsize=(11,11))\n",
    "\n",
    "\n",
    "plt.contourf(fluxdata[:,:,0],200,cmap='seismic')\n",
    "\n",
    "lim=fluxdata[:,:,0].max()\n",
    "plt.clim(-lim,lim)\n",
    "plt.show()\n"
   ]
  },
  {
   "cell_type": "code",
   "execution_count": 2,
   "metadata": {
    "collapsed": false
   },
   "outputs": [],
   "source": [
    "import matplotlib.pyplot as plt\n",
    "import numpy as np\n",
    "\n",
    "\n",
    "\n",
    "plt.figure(figsize=(11,11))\n",
    "\n",
    "\n",
    "plt.contourf(poloidata[:,:,3],poloidata[:,:,4],poloidata[:,:,0],200,cmap='seismic')\n",
    "plt.axis('equal')\n",
    "lim=poloidata[:,:,0].max()\n",
    "plt.clim(-lim,lim)\n",
    "plt.show()"
   ]
  },
  {
   "cell_type": "code",
   "execution_count": 9,
   "metadata": {
    "collapsed": false,
    "scrolled": false
   },
   "outputs": [],
   "source": [
    "import matplotlib.pyplot as plt\n",
    "\n",
    "\n",
    "plt.figure(figsize=(11,11))\n",
    "\n",
    "#ions\n",
    "plt.subplot(621)\n",
    "plt.plot(profiles[:,0,0]);\n",
    "plt.xlim([0,mpsi-1])\n",
    "\n",
    "plt.subplot(623)\n",
    "plt.plot(profiles[:,1,0]);\n",
    "plt.xlim([0,mpsi-1])\n",
    "\n",
    "plt.subplot(625)\n",
    "plt.plot(profiles[:,2,0]);\n",
    "plt.xlim([0,mpsi-1])\n",
    "\n",
    "plt.subplot(627)\n",
    "plt.plot(profiles[:,3,0]);\n",
    "plt.xlim([0,mpsi-1])\n",
    "\n",
    "plt.subplot(629)\n",
    "plt.plot(profiles[:,4,0]);\n",
    "plt.xlim([0,mpsi-1])\n",
    "\n",
    "plt.subplot(6,2,11)\n",
    "plt.plot(profiles[:,5,0]);\n",
    "plt.xlim([0,mpsi-1]);\n",
    "\n",
    "#electrons\n",
    "\n",
    "plt.subplot(622)\n",
    "plt.plot(profiles[:,0,1]);\n",
    "plt.xlim([0,mpsi-1])\n",
    "\n",
    "plt.subplot(624)\n",
    "plt.plot(profiles[:,1,1]);\n",
    "plt.xlim([0,mpsi-1])\n",
    "\n",
    "plt.subplot(626)\n",
    "plt.plot(profiles[:,2,1]);\n",
    "plt.xlim([0,mpsi-1])\n",
    "\n",
    "plt.subplot(628)\n",
    "plt.plot(profiles[:,3,1]);\n",
    "plt.xlim([0,mpsi-1])\n",
    "\n",
    "plt.subplot(6,2,10)\n",
    "plt.plot(profiles[:,4,1]);\n",
    "plt.xlim([0,mpsi-1])\n",
    "\n",
    "plt.subplot(6,2,12)\n",
    "plt.plot(profiles[:,5,1]);\n",
    "plt.xlim([0,mpsi-1]);\n",
    "\n",
    "plt.show()"
   ]
  },
  {
   "cell_type": "code",
   "execution_count": 10,
   "metadata": {
    "collapsed": false
   },
   "outputs": [],
   "source": [
    "import matplotlib.pyplot as plt\n",
    "\n",
    "\n",
    "plt.figure(figsize=(11,11))\n",
    "\n",
    "#ions\n",
    "plt.subplot(421)\n",
    "plt.plot(pdf[:,0,0]);\n",
    "plt.xlim([0,nvgrid-1])\n",
    "\n",
    "plt.subplot(423)\n",
    "plt.plot(pdf[:,1,0]);\n",
    "plt.xlim([0,nvgrid-1])\n",
    "\n",
    "plt.subplot(425)\n",
    "plt.plot(pdf[:,2,0]);\n",
    "plt.xlim([0,nvgrid-1])\n",
    "\n",
    "plt.subplot(427)\n",
    "plt.plot(pdf[:,3,0]);\n",
    "plt.xlim([0,nvgrid-1])\n",
    "\n",
    "\n",
    "\n",
    "#electrons\n",
    "\n",
    "plt.subplot(422)\n",
    "plt.plot(pdf[:,0,1]);\n",
    "plt.xlim([0,nvgrid-1])\n",
    "\n",
    "plt.subplot(424)\n",
    "plt.plot(pdf[:,1,1]);\n",
    "plt.xlim([0,nvgrid-1])\n",
    "\n",
    "plt.subplot(426)\n",
    "plt.plot(pdf[:,2,1]);\n",
    "plt.xlim([0,nvgrid-1])\n",
    "\n",
    "plt.subplot(428)\n",
    "plt.plot(pdf[:,3,1]);\n",
    "plt.xlim([0,nvgrid-1])\n",
    "\n",
    "plt.show()\n",
    "\n"
   ]
  }
 ],
 "metadata": {
  "kernelspec": {
   "display_name": "Python 2",
   "language": "python",
   "name": "python2"
  },
  "language_info": {
   "codemirror_mode": {
    "name": "ipython",
    "version": 2
   },
   "file_extension": ".py",
   "mimetype": "text/x-python",
   "name": "python",
   "nbconvert_exporter": "python",
   "pygments_lexer": "ipython2",
   "version": "2.7.5"
  }
 },
 "nbformat": 4,
 "nbformat_minor": 2
}
